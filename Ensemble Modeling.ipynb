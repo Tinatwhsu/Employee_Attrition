{
 "cells": [
  {
   "cell_type": "markdown",
   "id": "91639d8a",
   "metadata": {},
   "source": [
    "## Prediting Employee Attrition Based on Work Conditions - Ensemble Modeling"
   ]
  },
  {
   "cell_type": "markdown",
   "id": "21a9a5c5",
   "metadata": {},
   "source": [
    "####\n",
    "#### In the previous section, we discussed the accuracy metrics for Logistic Regression, K-Nearest Neighbors (KNN), and Random Forest, highlighting their respective performances: 0.89 for Logistic Regression, 0.88 for KNN, and 0.90 for Random Forest. \n",
    "#### \n",
    "#### In this section, I enhance the predictive accuracy for employee attrition through ensemble modeling techniques, specifically hard voting and soft voting. "
   ]
  },
  {
   "cell_type": "markdown",
   "id": "d75cc112",
   "metadata": {},
   "source": [
    "### Ensemble Modeling - Voting"
   ]
  },
  {
   "cell_type": "code",
   "execution_count": 29,
   "id": "ba29c51d",
   "metadata": {},
   "outputs": [],
   "source": [
    "from sklearn.ensemble import VotingClassifier\n",
    "from sklearn.model_selection import cross_val_score"
   ]
  },
  {
   "cell_type": "code",
   "execution_count": 30,
   "id": "5aad1e17",
   "metadata": {},
   "outputs": [
    {
     "data": {
      "text/plain": [
       "0.9285714285714286"
      ]
     },
     "execution_count": 30,
     "metadata": {},
     "output_type": "execute_result"
    }
   ],
   "source": [
    "Voting_soft = VotingClassifier([('clf1', Model1),('clf2',Model2),('clf3',Model3)],voting='soft')\n",
    "Voting_soft.fit(X_test, Y_test)\n",
    "Voting_soft.score(X_test, Y_test)"
   ]
  },
  {
   "cell_type": "code",
   "execution_count": 31,
   "id": "200bd8ad",
   "metadata": {},
   "outputs": [
    {
     "data": {
      "text/plain": [
       "0.9119047619047619"
      ]
     },
     "execution_count": 31,
     "metadata": {},
     "output_type": "execute_result"
    }
   ],
   "source": [
    "Voting_hard = VotingClassifier([('clf1', Model1),('clf2',Model2),('clf3',Model3)],voting='hard')\n",
    "Voting_hard.fit(X_test, Y_test)\n",
    "Voting_hard.score(X_test, Y_test)"
   ]
  },
  {
   "cell_type": "markdown",
   "id": "68729d4e",
   "metadata": {},
   "source": []
  },
  {
   "cell_type": "markdown",
   "id": "6e9a978b",
   "metadata": {},
   "source": [
    "#### In this summary, the predictive accuracy for employee attrition was significantly improved by employing ensemble modeling techniques, including hard and soft voting. The ensemble approach boosted our model's predictive performance from a range of 0.86 - 0.88 to exceeding 0.92. The successful application of these techniques underscores the potential of ensemble methods in refining and improving the reliability of predictive models."
   ]
  }
 ],
 "metadata": {
  "kernelspec": {
   "display_name": "Python 3 (ipykernel)",
   "language": "python",
   "name": "python3"
  },
  "language_info": {
   "codemirror_mode": {
    "name": "ipython",
    "version": 3
   },
   "file_extension": ".py",
   "mimetype": "text/x-python",
   "name": "python",
   "nbconvert_exporter": "python",
   "pygments_lexer": "ipython3",
   "version": "3.11.5"
  }
 },
 "nbformat": 4,
 "nbformat_minor": 5
}
